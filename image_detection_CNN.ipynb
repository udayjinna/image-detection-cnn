{
  "nbformat": 4,
  "nbformat_minor": 0,
  "metadata": {
    "colab": {
      "provenance": [],
      "authorship_tag": "ABX9TyM/gN17a/LUzVsyitNbTy0a",
      "include_colab_link": true
    },
    "kernelspec": {
      "name": "python3",
      "display_name": "Python 3"
    },
    "language_info": {
      "name": "python"
    }
  },
  "cells": [
    {
      "cell_type": "markdown",
      "metadata": {
        "id": "view-in-github",
        "colab_type": "text"
      },
      "source": [
        "<a href=\"https://colab.research.google.com/github/KarthikChapa/Image_detection_using_cnn/blob/main/image_detection_CNN.ipynb\" target=\"_parent\"><img src=\"https://colab.research.google.com/assets/colab-badge.svg\" alt=\"Open In Colab\"/></a>"
      ]
    },
    {
      "cell_type": "markdown",
      "source": [
        "\n",
        "# <center> #\n",
        "<br>\n",
        "\n",
        "\n",
        "<h1><center><b>Deep Learning course project - 1</b></center></h1>\n",
        "<br>\n",
        "<br>\n",
        "\n",
        "<h2><center><b>Title</b> : Small Image Classification Using Convolutional Neural Network (CNN)</center></h2>\n",
        "\n",
        "\n",
        "<br>\n",
        "<br>\n",
        "<br>\n",
        "\n",
        "<center><img src=\"https://imgs.search.brave.com/8J72AoW212sNuTo6Py_ETloqGuPe9WuyiPac_XeIxUI/rs:fit:500:0:0/g:ce/aHR0cHM6Ly91cGxv/YWQud2lraW1lZGlh/Lm9yZy93aWtpcGVk/aWEvZW4vdGh1bWIv/ZS9lMy9UaGlzX2lz/X3RoZV9sb2dvX29m/X05JVF9DYWxpY3V0/LnN2Zy81MTJweC1U/aGlzX2lzX3RoZV9s/b2dvX29mX05JVF9D/YWxpY3V0LnN2Zy5w/bmc\" width=\"240\" height=\"250\" classname = \"image\"></center>\n",
        "\n",
        "<br>\n",
        "<br>\n",
        "<br>\n",
        "<br>\n",
        "<br>\n",
        "<br>\n",
        "\n",
        "<center>\n",
        "<table  width=\"650\" height=\"300\">\n",
        "  <tr  style=\"font-size: 25px;\">\n",
        "    <th width = \"150\" >Sl.no</th>\n",
        "    <th width = \"300\">Name</th>\n",
        "    <th width = \"200\">Roll no.</th>\n",
        "   \n",
        "  </tr>\n",
        "\n",
        "  <tr>\n",
        "    <td>1</td>\n",
        "    <td>G. Tanmay</td>\n",
        "    <td>B210753EC</td>\n",
        "    \n",
        "  </tr>\n",
        "  <tr>\n",
        "    <td>2</td>\n",
        "    <td>C. Nithin Bhavan</td>\n",
        "    <td>B210705EC</td>\n",
        "    \n",
        "  </tr>\n",
        "  <tr>\n",
        "    <td>3</td>\n",
        "    <td>Ch. Karthik</td>\n",
        "    <td>B210711EC</td>\n",
        "   \n",
        "  </tr>\n",
        "</table>\n",
        "</center>\n",
        "\n",
        "<br>\n",
        "<br>\n",
        "\n"
      ],
      "metadata": {
        "id": "KjvfcZX41a5Y"
      }
    },
    {
      "cell_type": "markdown",
      "source": [
        "##Convolutional Neural Network\n",
        "\n",
        "\n",
        "Each convolutional neural network is made up of one or many convolutional layers. These layers are different than the *dense* layers we have seen previously. Their goal is to find patterns from within images that can be used to classify the image or parts of it.\n",
        "\n",
        "The fundemental difference between a dense layer and a convolutional layer is that dense layers detect patterns globally while convolutional layers detect patterns locally. When we have a densly connected layer each node in that layer sees all the data from the previous layer. This means that this layer is looking at all the information and is only capable of analyzing the data in a global capacity. Our convolutional layer however will not be densly connected, this means it can detect local patterns using part of the input data to that layer.\n",
        "\n",
        "**Dense Layer:** A dense layer will consider the ENTIRE image. It will look at all the pixels and use that information to generate some output.\n",
        "\n",
        "**Convolutional Layer:** The convolutional layer will look at specific parts of the image. In this example let's say it analyzes the highlighted parts below and detects patterns there."
      ],
      "metadata": {
        "id": "FkgGV4h8AvRt"
      }
    },
    {
      "cell_type": "markdown",
      "source": [
        "###How They Work\n",
        "A dense neural network learns patterns that are present in one specific area of an image. This means if a pattern that the network knows is present in a different area of the image it will have to learn the pattern again in that new area to be able to detect it.\n",
        "We'll consider that we have a dense neural network that has learned what an eye looks like from a sample of dog images.\n",
        "\n",
        "<center><img src=\"https://drive.google.com/uc?export=view&id=16FJKkVS_lZToQOCOOy6ohUpspWgtoQ-c\" alt=\"alt text\" width=\"500\"></center>\n",
        "\n",
        "\n",
        "Let's say it's determined that an image is likely to be a dog if an eye is present in the boxed off locations of the image above.\n",
        "\n",
        "Fliping the image.\n",
        "\n",
        "<center><img src=\"https://drive.google.com/uc?export=view&id=1V7Dh7BiaOvMq5Pm_jzpQfJTZcpPNmN0W\"  width=\"500\"></center>\n",
        "\n",
        "\n",
        "\n",
        "Since our densly connected network has only recognized patterns globally it will look where it thinks the eyes should be present. Clearly it does not find them there and therefore would likely determine this image is not a dog. Even though the pattern of the eyes is present, it's just in a different location.\n",
        "\n",
        "Since convolutional layers learn and detect patterns from different areas of the image, they don't have problems with the example we just illustrated. They know what an eye looks like and by analyzing different parts of the image can find where it is present."
      ],
      "metadata": {
        "id": "h74ud_LdBdYw"
      }
    },
    {
      "cell_type": "markdown",
      "source": [],
      "metadata": {
        "id": "YSPWtBl8_UBP"
      }
    },
    {
      "cell_type": "markdown",
      "source": [
        "##Layer Parameters\n",
        "A convolutional layer is defined by two key parameters.\n",
        "\n",
        "####**Filters**\n",
        "A filter is a m x n pattern of pixels that we are looking for in an image. The number of filters in a convolutional layer reprsents how many patterns each layer is looking for and what the depth of our response map will be. If we are looking for 32 different patterns/filters than our output feature map (aka the response map) will have a depth of 32. Each one of the 32 layers of depth will be a matrix of some size containing values indicating if the filter was present at that location or not.\n",
        "\n",
        "####**Sample Size**\n",
        "Each convolutional layer is going to examine n x m blocks of pixels in each image. Typically, we'll consider 3x3 or 5x5 blocks. In the example above we use a 3x3 \"sample size\". This size will be the same as the size of our filter.\n",
        "\n",
        "Our layers work by sliding these filters of n x m pixels over every possible position in our image and populating a new feature map/response map indicating whether the filter is present at each location."
      ],
      "metadata": {
        "id": "dMD2Ehx8DScV"
      }
    },
    {
      "cell_type": "markdown",
      "source": [
        "##Padding\n",
        "Padding is simply the addition of the appropriate number of rows and/or columns to your input data such that each pixel can be centered by the filter.\n",
        "##Strides\n",
        "The stride size reprsents how many rows/cols we will move the filter each time. These are not used very frequently so we'll move on.\n",
        "##Pooling\n",
        "The idea behind a pooling layer is to downsample our feature maps and reduce their dimensions. They work in a similar way to convolutional layers where they extract windows from the feature map and return a response map of the max, min or average values of each channel. Pooling is usually done using windows of size 2x2 and a stride of 2. This will reduce the size of the feature map by a factor of two and return a response map that is 2x smaller.\n"
      ],
      "metadata": {
        "id": "IfRFiNtMD4OS"
      }
    },
    {
      "cell_type": "markdown",
      "source": [
        "### Importing Liberaries"
      ],
      "metadata": {
        "id": "d-1Tme5QAinR"
      }
    },
    {
      "cell_type": "code",
      "execution_count": null,
      "metadata": {
        "colab": {
          "base_uri": "https://localhost:8080/"
        },
        "id": "qNR8RAziXMDM",
        "outputId": "6d5f9cb5-7571-4645-841a-00927c27121d"
      },
      "outputs": [
        {
          "output_type": "stream",
          "name": "stdout",
          "text": [
            "Colab only includes TensorFlow 2.x; %tensorflow_version has no effect.\n"
          ]
        }
      ],
      "source": [
        "%tensorflow_version 2.x\n",
        "import tensorflow as tf\n",
        "\n",
        "from tensorflow.keras import datasets, layers, models\n",
        "import matplotlib.pyplot as plt"
      ]
    },
    {
      "cell_type": "markdown",
      "source": [
        "##Download and prepare the CIFAR10 dataset\n",
        "\n",
        "The problem we will consider here is classifying 10 different everyday objects. The dataset we will use is built into tensorflow and called the [**CIFAR Image Dataset.**](https://www.cs.toronto.edu/~kriz/cifar.html) It contains 60,000 32x32 color images with 6000 images of each class.\n",
        "\n",
        "The labels in this dataset are the following:\n",
        "- Airplane\n",
        "- Automobile\n",
        "- Bird\n",
        "- Cat\n",
        "- Deer\n",
        "- Dog\n",
        "- Frog\n",
        "- Horse\n",
        "- Ship\n",
        "- Truck\n",
        "\n",
        "\n",
        "##Image Data\n",
        "This image data is usually made up of 3 dimensions. These 3 dimensions are as follows:\n",
        "- image height\n",
        "- image width\n",
        "- color channels\n",
        "\n"
      ],
      "metadata": {
        "id": "sBNe1SsGXm3V"
      }
    },
    {
      "cell_type": "code",
      "source": [
        "(train_images, train_labels), (test_images, test_labels) = datasets.cifar10.load_data()"
      ],
      "metadata": {
        "id": "_ysv13gJXhcs",
        "colab": {
          "base_uri": "https://localhost:8080/"
        },
        "outputId": "9d7f5202-4acf-4a4f-df2a-5c593c1eea0a"
      },
      "execution_count": null,
      "outputs": [
        {
          "output_type": "stream",
          "name": "stdout",
          "text": [
            "Downloading data from https://www.cs.toronto.edu/~kriz/cifar-10-python.tar.gz\n",
            "170498071/170498071 [==============================] - 3s 0us/step\n"
          ]
        }
      ]
    },
    {
      "cell_type": "markdown",
      "source": [
        "Normalizing the data"
      ],
      "metadata": {
        "id": "DC55IpJyXhRk"
      }
    },
    {
      "cell_type": "code",
      "source": [
        "train_images, test_images = train_images / 255.0, test_images / 255.0\n",
        "\n",
        "class_names = ['airplane', 'automobile', 'bird', 'cat', 'deer',\n",
        "               'dog', 'frog', 'horse', 'ship', 'truck']"
      ],
      "metadata": {
        "id": "hz1LPjMHXqwu"
      },
      "execution_count": null,
      "outputs": []
    },
    {
      "cell_type": "code",
      "source": [
        "train_images[3].shape"
      ],
      "metadata": {
        "id": "XUjdC8eBZNmx",
        "colab": {
          "base_uri": "https://localhost:8080/"
        },
        "outputId": "ad4fc848-6c37-42fc-8f04-c265eb12393a"
      },
      "execution_count": null,
      "outputs": [
        {
          "output_type": "execute_result",
          "data": {
            "text/plain": [
              "(32, 32, 3)"
            ]
          },
          "metadata": {},
          "execution_count": 4
        }
      ]
    },
    {
      "cell_type": "code",
      "source": [
        "#IMG_INDEX = 7\n",
        "\n",
        "#plt.imshow(train_images[IMG_INDEX] ,cmap=plt.cm.binary)\n",
        "#plt.xlabel(class_names[train_labels[IMG_INDEX][0]])\n",
        "#plt.show()\n",
        "\n",
        "plt.figure(figsize=(10,10))\n",
        "for i in range(25):\n",
        "    plt.subplot(5,5,i+1)\n",
        "    plt.xticks([])\n",
        "    plt.yticks([])\n",
        "    plt.grid(False)\n",
        "    plt.imshow(train_images[i])\n",
        "    plt.xlabel(class_names[train_labels[i][0]])\n",
        "plt.show()"
      ],
      "metadata": {
        "id": "OE86OOaTX5Q-"
      },
      "execution_count": null,
      "outputs": []
    },
    {
      "cell_type": "markdown",
      "source": [
        "##CNN Architecture\n",
        "A common architecture for a CNN is a stack of Conv2D and MaxPooling2D layers followed by a few denesly connected layers. To idea is that the stack of convolutional and maxPooling layers extract the features from the image. Then these features are flattened and fed to densly connected layers that determine the class of an image based on the presence of features.\n",
        "\n",
        "We will start by building the **Convolutional Base**.\n",
        "\n",
        "### Max pooling\n",
        "Max pooling is a pooling operation commonly used in convolutional neural networks (CNNs) to downsample feature maps while retaining the most important information\n",
        "\n",
        "By selecting the maximum value within each region, max pooling reduces the spatial dimensions (width and height) of the input feature map, effectively downsampling it. This downsampling helps in reducing the computational complexity of subsequent layers and improving the model's ability to generalize by capturing the most salient features."
      ],
      "metadata": {
        "id": "GU53ssrWFCi0"
      }
    },
    {
      "cell_type": "code",
      "source": [
        "model = models.Sequential()\n",
        "model.add(layers.Conv2D(32, (3, 3), activation='relu', input_shape=(32, 32, 3)))\n",
        "model.add(layers.MaxPooling2D((2, 2)))\n",
        "model.add(layers.Conv2D(64, (3, 3), activation='relu'))\n",
        "model.add(layers.MaxPooling2D((2, 2)))\n",
        "model.add(layers.Conv2D(64, (3, 3), activation='relu'))\n"
      ],
      "metadata": {
        "id": "q2lfW7q7YAgG"
      },
      "execution_count": null,
      "outputs": []
    },
    {
      "cell_type": "code",
      "source": [
        "model.summary()"
      ],
      "metadata": {
        "id": "dXo6b3ijgAMy",
        "colab": {
          "base_uri": "https://localhost:8080/"
        },
        "outputId": "64e3ab7a-db70-4b36-ae30-d9bdaf7f1876"
      },
      "execution_count": null,
      "outputs": [
        {
          "output_type": "stream",
          "name": "stdout",
          "text": [
            "Model: \"sequential_1\"\n",
            "_________________________________________________________________\n",
            " Layer (type)                Output Shape              Param #   \n",
            "=================================================================\n",
            " conv2d_4 (Conv2D)           (None, 30, 30, 32)        896       \n",
            "                                                                 \n",
            " max_pooling2d_3 (MaxPoolin  (None, 15, 15, 32)        0         \n",
            " g2D)                                                            \n",
            "                                                                 \n",
            " conv2d_5 (Conv2D)           (None, 13, 13, 64)        18496     \n",
            "                                                                 \n",
            " max_pooling2d_4 (MaxPoolin  (None, 6, 6, 64)          0         \n",
            " g2D)                                                            \n",
            "                                                                 \n",
            " conv2d_6 (Conv2D)           (None, 4, 4, 64)          36928     \n",
            "                                                                 \n",
            "=================================================================\n",
            "Total params: 56320 (220.00 KB)\n",
            "Trainable params: 56320 (220.00 KB)\n",
            "Non-trainable params: 0 (0.00 Byte)\n",
            "_________________________________________________________________\n"
          ]
        }
      ]
    },
    {
      "cell_type": "markdown",
      "source": [
        "##Adding Dense Layers\n",
        "So far, we have just completed the **convolutional base**. Now we need to take these extracted features and add a way to classify them. This is why we add the following layers to our model."
      ],
      "metadata": {
        "id": "hjY9QgEVFXfO"
      }
    },
    {
      "cell_type": "code",
      "source": [
        "model.add(layers.Flatten())\n",
        "model.add(layers.Dense(64, activation='relu'))\n",
        "model.add(layers.Dense(10))"
      ],
      "metadata": {
        "id": "rcS8R0FjhWJj"
      },
      "execution_count": null,
      "outputs": []
    },
    {
      "cell_type": "code",
      "source": [
        "model.summary()"
      ],
      "metadata": {
        "id": "RJLOlro5iBKN",
        "colab": {
          "base_uri": "https://localhost:8080/"
        },
        "outputId": "9ec470c1-b0ea-4adf-ba8b-8c13e8b869f2"
      },
      "execution_count": null,
      "outputs": [
        {
          "output_type": "stream",
          "name": "stdout",
          "text": [
            "Model: \"sequential_1\"\n",
            "_________________________________________________________________\n",
            " Layer (type)                Output Shape              Param #   \n",
            "=================================================================\n",
            " conv2d_4 (Conv2D)           (None, 30, 30, 32)        896       \n",
            "                                                                 \n",
            " max_pooling2d_3 (MaxPoolin  (None, 15, 15, 32)        0         \n",
            " g2D)                                                            \n",
            "                                                                 \n",
            " conv2d_5 (Conv2D)           (None, 13, 13, 64)        18496     \n",
            "                                                                 \n",
            " max_pooling2d_4 (MaxPoolin  (None, 6, 6, 64)          0         \n",
            " g2D)                                                            \n",
            "                                                                 \n",
            " conv2d_6 (Conv2D)           (None, 4, 4, 64)          36928     \n",
            "                                                                 \n",
            " flatten (Flatten)           (None, 1024)              0         \n",
            "                                                                 \n",
            " dense (Dense)               (None, 64)                65600     \n",
            "                                                                 \n",
            " dense_1 (Dense)             (None, 10)                650       \n",
            "                                                                 \n",
            "=================================================================\n",
            "Total params: 122570 (478.79 KB)\n",
            "Trainable params: 122570 (478.79 KB)\n",
            "Non-trainable params: 0 (0.00 Byte)\n",
            "_________________________________________________________________\n"
          ]
        }
      ]
    },
    {
      "cell_type": "markdown",
      "source": [
        "##Training\n",
        "###Early stoping :\n",
        "Early stopping is a technique used in machine learning and deep learning to prevent overfitting and improve the generalization ability of the model. It involves monitoring the performance of the model on a validation dataset during training and stopping the training process when the performance starts to degrade.\n",
        "A stopping criterion is defined based on the performance metric on the validation set. Common criteria include:\n",
        "\n",
        "* No improvement in performance for a certain number of epochs.\n",
        "* A decrease in performance after an improvement.\n",
        "* Performance reaching a plateau.\n",
        "\n",
        "If the stopping criterion is met, the training process is stopped early. The model parameters at the point where training is stopped are usually saved as the final model.\n"
      ],
      "metadata": {
        "id": "-8-mCS5PFmMC"
      }
    },
    {
      "cell_type": "code",
      "source": [
        "model.compile(optimizer='adam',\n",
        "              loss=tf.keras.losses.SparseCategoricalCrossentropy(from_logits=True),\n",
        "              metrics=['accuracy'])\n",
        "\n",
        "early_stopping = tf.keras.callbacks.EarlyStopping(\n",
        "    monitor='val_loss',\n",
        "    patience=3,\n",
        "    restore_best_weights=True\n",
        ")\n",
        "\n",
        "history = model.fit(\n",
        "    train_images,\n",
        "    train_labels,\n",
        "    epochs=8,\n",
        "    validation_data=(test_images, test_labels),\n",
        "    callbacks=[early_stopping]\n",
        ")\n",
        "\n",
        "#history = model.fit(train_images, train_labels, epochs=8,validation_data=(test_images, test_labels))"
      ],
      "metadata": {
        "id": "B5_FlH6diJeU",
        "colab": {
          "base_uri": "https://localhost:8080/"
        },
        "outputId": "89adf877-cc48-4419-bb73-daba79472263"
      },
      "execution_count": null,
      "outputs": [
        {
          "output_type": "stream",
          "name": "stdout",
          "text": [
            "Epoch 1/8\n",
            "1563/1563 [==============================] - 69s 44ms/step - loss: 1.5219 - accuracy: 0.4449 - val_loss: 1.2411 - val_accuracy: 0.5541\n",
            "Epoch 2/8\n",
            "1563/1563 [==============================] - 71s 46ms/step - loss: 1.1639 - accuracy: 0.5863 - val_loss: 1.0958 - val_accuracy: 0.6147\n",
            "Epoch 3/8\n",
            "1563/1563 [==============================] - 83s 53ms/step - loss: 1.0252 - accuracy: 0.6396 - val_loss: 0.9957 - val_accuracy: 0.6503\n",
            "Epoch 4/8\n",
            "1563/1563 [==============================] - 78s 50ms/step - loss: 0.9321 - accuracy: 0.6733 - val_loss: 0.9230 - val_accuracy: 0.6807\n",
            "Epoch 5/8\n",
            "1563/1563 [==============================] - 72s 46ms/step - loss: 0.8644 - accuracy: 0.6967 - val_loss: 0.9333 - val_accuracy: 0.6758\n",
            "Epoch 6/8\n",
            "1563/1563 [==============================] - 65s 41ms/step - loss: 0.8118 - accuracy: 0.7142 - val_loss: 0.9267 - val_accuracy: 0.6786\n",
            "Epoch 7/8\n",
            "1563/1563 [==============================] - 67s 43ms/step - loss: 0.7624 - accuracy: 0.7326 - val_loss: 0.8875 - val_accuracy: 0.6969\n",
            "Epoch 8/8\n",
            "1563/1563 [==============================] - 64s 41ms/step - loss: 0.7220 - accuracy: 0.7462 - val_loss: 0.9166 - val_accuracy: 0.6839\n"
          ]
        }
      ]
    },
    {
      "cell_type": "markdown",
      "source": [
        "##Evaluate the model"
      ],
      "metadata": {
        "id": "bBPFDBDqFuF3"
      }
    },
    {
      "cell_type": "code",
      "source": [
        "plt.plot(history.history['loss'], label='loss')\n",
        "#plt.plot(history.history['val_accuracy'], label = 'val_accuracy')\n",
        "plt.xlabel('Epoch')\n",
        "plt.ylabel('loss')\n",
        "#plt.ylim([0.5, 1])\n",
        "plt.legend(loc='lower right')\n"
      ],
      "metadata": {
        "colab": {
          "base_uri": "https://localhost:8080/",
          "height": 466
        },
        "id": "TY9jDhKRigVd",
        "outputId": "22060527-0673-4a47-8b04-4ea340bc8d81"
      },
      "execution_count": null,
      "outputs": [
        {
          "output_type": "execute_result",
          "data": {
            "text/plain": [
              "<matplotlib.legend.Legend at 0x7b8b96c72cb0>"
            ]
          },
          "metadata": {},
          "execution_count": 12
        },
        {
          "output_type": "display_data",
          "data": {
            "text/plain": [
              "<Figure size 640x480 with 1 Axes>"
            ],
            "image/png": "[encoded data removed]"
          },
          "metadata": {}
        }
      ]
    },
    {
      "cell_type": "code",
      "source": [
        "test_loss, test_acc = model.evaluate(test_images,  test_labels, verbose=2)\n",
        "\n",
        "print(\"Percentage Accuracy = \", test_acc *100)"
      ],
      "metadata": {
        "id": "SxjmAfhnyJLh",
        "colab": {
          "base_uri": "https://localhost:8080/"
        },
        "outputId": "a1758ba2-2e2f-4edd-e2be-858a2e921051"
      },
      "execution_count": null,
      "outputs": [
        {
          "output_type": "stream",
          "name": "stdout",
          "text": [
            "313/313 - 3s - loss: 0.9166 - accuracy: 0.6839 - 3s/epoch - 10ms/step\n",
            "Percentage Accuracy =  68.3899998664856\n"
          ]
        }
      ]
    },
    {
      "cell_type": "code",
      "source": [
        "import numpy as np\n",
        "\n",
        "y_pred = model.predict(test_images)\n",
        "y_pred[:5]\n"
      ],
      "metadata": {
        "id": "SLmagfDKGJJH",
        "colab": {
          "base_uri": "https://localhost:8080/"
        },
        "outputId": "82d9c3ab-7055-4a9b-af55-6c7e003f9317"
      },
      "execution_count": null,
      "outputs": [
        {
          "output_type": "stream",
          "name": "stdout",
          "text": [
            "313/313 [==============================] - 4s 11ms/step\n"
          ]
        },
        {
          "output_type": "execute_result",
          "data": {
            "text/plain": [
              "array([[-0.85925984, -3.1014767 , -1.4439322 ,  2.183645  , -4.134256  ,\n",
              "         1.1273814 , -0.92459613, -2.5216973 ,  1.4425155 , -1.6276826 ],\n",
              "       [ 1.6857969 ,  4.703753  , -2.7254605 , -4.2616186 , -4.891041  ,\n",
              "        -7.1155148 , -5.8241935 , -7.4368224 ,  6.7644215 ,  0.77115035],\n",
              "       [ 2.2393105 , -0.81058556, -1.880709  , -2.6158102 , -1.5485078 ,\n",
              "        -4.514847  , -3.2456963 , -3.9272933 ,  3.45765   ,  0.39327896],\n",
              "       [ 4.6778793 , -2.471478  ,  0.8160303 , -1.473414  , -1.1227235 ,\n",
              "        -4.231683  , -4.088     , -3.3769236 ,  1.5878755 , -4.207876  ],\n",
              "       [-3.3583033 , -5.119612  ,  0.90523475,  0.57445127,  4.6426544 ,\n",
              "        -0.498266  ,  2.512182  , -5.0805383 , -4.098059  , -6.5134354 ]],\n",
              "      dtype=float32)"
            ]
          },
          "metadata": {},
          "execution_count": 14
        }
      ]
    },
    {
      "cell_type": "code",
      "source": [
        "y_classes = [np.argmax(element) for element in y_pred]\n",
        "tc=y_classes[:5]\n",
        "y_classes[:5]\n"
      ],
      "metadata": {
        "id": "SDyFCl8pGSwD",
        "colab": {
          "base_uri": "https://localhost:8080/"
        },
        "outputId": "5e6ec374-2973-4825-ea12-d98e591f215c"
      },
      "execution_count": null,
      "outputs": [
        {
          "output_type": "execute_result",
          "data": {
            "text/plain": [
              "[3, 8, 8, 0, 4]"
            ]
          },
          "metadata": {},
          "execution_count": 15
        }
      ]
    },
    {
      "cell_type": "code",
      "source": [
        "for i in range(5):\n",
        "  print (class_names[tc[i]])"
      ],
      "metadata": {
        "colab": {
          "base_uri": "https://localhost:8080/"
        },
        "id": "QBegkaFogN1N",
        "outputId": "a419017f-de9a-41cd-d5ef-a930d580f6ee"
      },
      "execution_count": null,
      "outputs": [
        {
          "output_type": "stream",
          "name": "stdout",
          "text": [
            "cat\n",
            "ship\n",
            "ship\n",
            "airplane\n",
            "deer\n"
          ]
        }
      ]
    },
    {
      "cell_type": "code",
      "source": [
        "plt.figure(figsize=(5,5))\n",
        "for i in range(5):\n",
        "    plt.subplot(5,5,i+1)\n",
        "    plt.xticks([])\n",
        "    plt.yticks([])\n",
        "    plt.grid(False)\n",
        "    plt.imshow(test_images[i])\n",
        "    plt.xlabel(class_names[test_labels[i][0]])\n",
        "plt.show()"
      ],
      "metadata": {
        "id": "yONAK_MLfnA5"
      },
      "execution_count": null,
      "outputs": []
    },
    {
      "cell_type": "markdown",
      "source": [
        "**DATA** **AUGMENTATION**\n",
        "\n",
        "To avoid overfitting and create a larger dataset from a smaller one we can use a technique called data augmentation. This is simply performing random transofrmations on our images so that our model can generalize better. These transformations can be things like compressions, rotations, stretches and even color changes.\n",
        "\n",
        "Keras can help us do this. Look at the code below to an example of data augmentation."
      ],
      "metadata": {
        "id": "3fyRnkual1Vo"
      }
    },
    {
      "cell_type": "code",
      "source": [
        "import numpy as np\n",
        "import matplotlib.pyplot as plt\n",
        "from keras.preprocessing.image import ImageDataGenerator, img_to_array, array_to_img\n",
        "\n",
        "\n",
        "test_img = train_images[690]\n",
        "\n",
        "\n",
        "datagen = ImageDataGenerator(\n",
        "    rotation_range=20,\n",
        "    width_shift_range=0.1,\n",
        "    height_shift_range=0.1,\n",
        "    shear_range=0.2,\n",
        "    zoom_range=0.2,\n",
        "    horizontal_flip=True,\n",
        "    fill_mode='nearest'\n",
        ")\n",
        "\n",
        "\n",
        "img = img_to_array(test_img)\n",
        "img = np.expand_dims(img, axis=0)\n",
        "\n",
        "\n",
        "augmented_images = datagen.flow(img, batch_size=1)\n",
        "\n",
        "\n",
        "plt.figure(figsize=(10, 10))\n",
        "for i in range(9):\n",
        "    augmented_image = augmented_images.next()[0]\n",
        "    plt.subplot(3, 3, i + 1)\n",
        "    plt.imshow(array_to_img(augmented_image))\n",
        "plt.show()\n"
      ],
      "metadata": {
        "id": "dgSaYpOgnhr0",
        "colab": {
          "base_uri": "https://localhost:8080/",
          "height": 832
        },
        "outputId": "7d9d35ff-4830-4b28-8485-9fac6923a551"
      },
      "execution_count": null,
      "outputs": [
        {
          "output_type": "display_data",
          "data": {
            "text/plain": [
              "<Figure size 1000x1000 with 9 Axes>"
            ],
            "image/png": "[encoded data removed]"
          },
          "metadata": {}
        }
      ]
    },
    {
      "cell_type": "code",
      "source": [
        "img.shape"
      ],
      "metadata": {
        "id": "1rw6FPsgmhJd",
        "colab": {
          "base_uri": "https://localhost:8080/"
        },
        "outputId": "84227209-368f-4fa8-d91b-4de2484b02ba"
      },
      "execution_count": null,
      "outputs": [
        {
          "output_type": "execute_result",
          "data": {
            "text/plain": [
              "(1, 32, 32, 3)"
            ]
          },
          "metadata": {},
          "execution_count": 23
        }
      ]
    },
    {
      "cell_type": "markdown",
      "source": [
        "##Conclusion\n",
        "\n",
        "\n",
        "*   Successfully built a convolutional neural network (CNN) for classifying small images from the CIFAR-10 dataset.\n",
        "*   The model achieved an accuracy of 70% on the training set and 68% on the test set.\n",
        "*   Different CNN architectures, advanced training techniques (e.g., learning rate scheduling, regularization), and ensemble methods to potentially improve accuracy\n",
        "*   Gained insights can be applied to other image recognition tasks and deep learning projects.\n",
        "\n",
        "\n",
        "\n",
        "\n"
      ],
      "metadata": {
        "id": "FN_FRZv5pZZK"
      }
    },
    {
      "cell_type": "markdown",
      "source": [
        "# References\n",
        "\n",
        "\n",
        "*   Dataset : https://www.cs.toronto.edu/~kriz/cifar.html\n",
        "*   CNN model refernce : https://www.tensorflow.org/tutorials/images/cnn\n",
        "*   Some other references : https://www.youtube.com/watch?v=tPYj3fFJGjk&pp=ygUaZnJlZSBjb2RlIGNhbXAgdGVub3NyIGZsb3c%3D\n",
        "*   github repo link : https://github.com/KarthikChapa/DeepLearningCourseProjects.git\n",
        "\n"
      ],
      "metadata": {
        "id": "xHfwtvx-Jeat"
      }
    },
    {
      "cell_type": "code",
      "source": [],
      "metadata": {
        "id": "kWI03_0EOrf3"
      },
      "execution_count": null,
      "outputs": []
    }
  ]
}